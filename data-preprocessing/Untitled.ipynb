{
 "cells": [
  {
   "cell_type": "code",
   "execution_count": null,
   "metadata": {
    "collapsed": true
   },
   "outputs": [],
   "source": [
    "import os\n",
    "import cv2\n",
    "import sys\n",
    "import numpy as np"
   ]
  },
  {
   "cell_type": "code",
   "execution_count": null,
   "metadata": {
    "collapsed": true
   },
   "outputs": [],
   "source": [
    "# resize img to 256*256\n",
    "data_path = '/Users/linmingwang/Downloads/orange-aunt-256/'\n",
    "folders = os.listdir(data_path)\n",
    "img_size = 256\n",
    "img_count = 0\n",
    "%cd data_path\n",
    "for folder in folders:\n",
    "    print('scanning {} ...'.format(folder))\n",
    "    folder = data_path + folder\n",
    "    img_list = os.listdir(folder)\n",
    "    print ('img_list', len(img_list))\n",
    "    for img_file in img_list:\n",
    "        filepath = '{}/{}'.format(folder, img_file)\n",
    "        try:\n",
    "            img = cv2.imread(filepath)\n",
    "            h, w, c = img.shape\n",
    "        except:\n",
    "            print('problematic file:', filepath)\n",
    "            continue\n",
    "        if img is None:\n",
    "            print('problematic file:', filepath)\n",
    "            continue\n",
    "        elif h == img_size and w == img_size:\n",
    "            continue\n",
    "        else:\n",
    "            img = cv2.resize(img, (img_size, img_size), interpolation = cv2.INTER_AREA)\n",
    "            cv2.imwrite(filepath, img)\n",
    "        img_count += 1\n",
    "        if img_count % 100 == 0:\n",
    "            print('{} images processed!'.format(img_count))\n",
    "\n",
    "print('finished processing {} images !'.format(img_count))"
   ]
  }
 ],
 "metadata": {
  "kernelspec": {
   "display_name": "Python 3",
   "language": "python",
   "name": "python3"
  },
  "language_info": {
   "codemirror_mode": {
    "name": "ipython",
    "version": 3
   },
   "file_extension": ".py",
   "mimetype": "text/x-python",
   "name": "python",
   "nbconvert_exporter": "python",
   "pygments_lexer": "ipython3",
   "version": "3.5.4"
  }
 },
 "nbformat": 4,
 "nbformat_minor": 0
}
